{
 "cells": [
  {
   "attachments": {
    "download.jpg": {
     "image/jpeg": "[encoded data removed]"
    }
   },
   "cell_type": "markdown",
   "id": "0ec12c21",
   "metadata": {},
   "source": [
    "# Analyzing and Visualizing COVID-19 Data in France\n",
    "![download.jpg](attachment:download.jpg)\n",
    "\n",
    "# Background of COVID-19 in France\n",
    "\n",
    "COVID started in Wuhan, China in December of 2019 when people began to fall sick with a previously unknown pneumonia. China declared it's first case of COVID on Janurary 7th 2020. COVID-19 surveliance in France started on Janurary 10th 2020. The first cases in France were not diagnosed until 14 days later. \n",
    "##### Source: https://www.ncbi.nlm.nih.gov/pmc/articles/PMC7029452/#:~:text=Specific%20COVID%2D19%20surveillance%20has,days%20later%2C%20on%2024%20January. "
   ]
  },
  {
   "cell_type": "markdown",
   "id": "9a8285bc",
   "metadata": {},
   "source": [
    "# Data Source\n",
    "\n",
    "###### The Data is from European Centre for Disease Prevention and Control \n",
    "https://www.ecdc.europa.eu/en/publications-data/download-todays-data-geographic-distribution-covid-19-cases-worldwide"
   ]
  },
  {
   "cell_type": "code",
   "execution_count": 3,
   "id": "8b7cdb23",
   "metadata": {},
   "outputs": [],
   "source": [
    "%matplotlib inline\n",
    "import pandas"
   ]
  },
  {
   "cell_type": "markdown",
   "id": "dc5922e8",
   "metadata": {},
   "source": [
    "\n",
    "# Overview of Data "
   ]
  },
  {
   "cell_type": "code",
   "execution_count": 4,
   "id": "ab96830c",
   "metadata": {},
   "outputs": [
    {
     "data": {
      "text/html": [
       "<div>\n",
       "<style scoped>\n",
       "    .dataframe tbody tr th:only-of-type {\n",
       "        vertical-align: middle;\n",
       "    }\n",
       "\n",
       "    .dataframe tbody tr th {\n",
       "        vertical-align: top;\n",
       "    }\n",
       "\n",
       "    .dataframe thead th {\n",
       "        text-align: right;\n",
       "    }\n",
       "</style>\n",
       "<table border=\"1\" class=\"dataframe\">\n",
       "  <thead>\n",
       "    <tr style=\"text-align: right;\">\n",
       "      <th></th>\n",
       "      <th>dateRep</th>\n",
       "      <th>day</th>\n",
       "      <th>month</th>\n",
       "      <th>year</th>\n",
       "      <th>cases</th>\n",
       "      <th>deaths</th>\n",
       "      <th>countriesAndTerritories</th>\n",
       "      <th>geoId</th>\n",
       "      <th>countryterritoryCode</th>\n",
       "      <th>popData2019</th>\n",
       "      <th>continentExp</th>\n",
       "      <th>Cumulative_number_for_14_days_of_COVID-19_cases_per_100000</th>\n",
       "    </tr>\n",
       "  </thead>\n",
       "  <tbody>\n",
       "    <tr>\n",
       "      <th>0</th>\n",
       "      <td>2020-12-14</td>\n",
       "      <td>14</td>\n",
       "      <td>12</td>\n",
       "      <td>2020</td>\n",
       "      <td>746</td>\n",
       "      <td>6</td>\n",
       "      <td>Afghanistan</td>\n",
       "      <td>AF</td>\n",
       "      <td>AFG</td>\n",
       "      <td>38041757.0</td>\n",
       "      <td>Asia</td>\n",
       "      <td>9.013779</td>\n",
       "    </tr>\n",
       "    <tr>\n",
       "      <th>1</th>\n",
       "      <td>2020-12-13</td>\n",
       "      <td>13</td>\n",
       "      <td>12</td>\n",
       "      <td>2020</td>\n",
       "      <td>298</td>\n",
       "      <td>9</td>\n",
       "      <td>Afghanistan</td>\n",
       "      <td>AF</td>\n",
       "      <td>AFG</td>\n",
       "      <td>38041757.0</td>\n",
       "      <td>Asia</td>\n",
       "      <td>7.052776</td>\n",
       "    </tr>\n",
       "    <tr>\n",
       "      <th>2</th>\n",
       "      <td>2020-12-12</td>\n",
       "      <td>12</td>\n",
       "      <td>12</td>\n",
       "      <td>2020</td>\n",
       "      <td>113</td>\n",
       "      <td>11</td>\n",
       "      <td>Afghanistan</td>\n",
       "      <td>AF</td>\n",
       "      <td>AFG</td>\n",
       "      <td>38041757.0</td>\n",
       "      <td>Asia</td>\n",
       "      <td>6.868768</td>\n",
       "    </tr>\n",
       "    <tr>\n",
       "      <th>3</th>\n",
       "      <td>2020-12-11</td>\n",
       "      <td>11</td>\n",
       "      <td>12</td>\n",
       "      <td>2020</td>\n",
       "      <td>63</td>\n",
       "      <td>10</td>\n",
       "      <td>Afghanistan</td>\n",
       "      <td>AF</td>\n",
       "      <td>AFG</td>\n",
       "      <td>38041757.0</td>\n",
       "      <td>Asia</td>\n",
       "      <td>7.134266</td>\n",
       "    </tr>\n",
       "    <tr>\n",
       "      <th>4</th>\n",
       "      <td>2020-12-10</td>\n",
       "      <td>10</td>\n",
       "      <td>12</td>\n",
       "      <td>2020</td>\n",
       "      <td>202</td>\n",
       "      <td>16</td>\n",
       "      <td>Afghanistan</td>\n",
       "      <td>AF</td>\n",
       "      <td>AFG</td>\n",
       "      <td>38041757.0</td>\n",
       "      <td>Asia</td>\n",
       "      <td>6.968658</td>\n",
       "    </tr>\n",
       "    <tr>\n",
       "      <th>5</th>\n",
       "      <td>2020-12-09</td>\n",
       "      <td>9</td>\n",
       "      <td>12</td>\n",
       "      <td>2020</td>\n",
       "      <td>135</td>\n",
       "      <td>13</td>\n",
       "      <td>Afghanistan</td>\n",
       "      <td>AF</td>\n",
       "      <td>AFG</td>\n",
       "      <td>38041757.0</td>\n",
       "      <td>Asia</td>\n",
       "      <td>6.963401</td>\n",
       "    </tr>\n",
       "    <tr>\n",
       "      <th>6</th>\n",
       "      <td>2020-12-08</td>\n",
       "      <td>8</td>\n",
       "      <td>12</td>\n",
       "      <td>2020</td>\n",
       "      <td>200</td>\n",
       "      <td>6</td>\n",
       "      <td>Afghanistan</td>\n",
       "      <td>AF</td>\n",
       "      <td>AFG</td>\n",
       "      <td>38041757.0</td>\n",
       "      <td>Asia</td>\n",
       "      <td>7.094835</td>\n",
       "    </tr>\n",
       "    <tr>\n",
       "      <th>7</th>\n",
       "      <td>2020-12-07</td>\n",
       "      <td>7</td>\n",
       "      <td>12</td>\n",
       "      <td>2020</td>\n",
       "      <td>210</td>\n",
       "      <td>26</td>\n",
       "      <td>Afghanistan</td>\n",
       "      <td>AF</td>\n",
       "      <td>AFG</td>\n",
       "      <td>38041757.0</td>\n",
       "      <td>Asia</td>\n",
       "      <td>7.215755</td>\n",
       "    </tr>\n",
       "    <tr>\n",
       "      <th>8</th>\n",
       "      <td>2020-12-06</td>\n",
       "      <td>6</td>\n",
       "      <td>12</td>\n",
       "      <td>2020</td>\n",
       "      <td>234</td>\n",
       "      <td>10</td>\n",
       "      <td>Afghanistan</td>\n",
       "      <td>AF</td>\n",
       "      <td>AFG</td>\n",
       "      <td>38041757.0</td>\n",
       "      <td>Asia</td>\n",
       "      <td>7.326160</td>\n",
       "    </tr>\n",
       "    <tr>\n",
       "      <th>9</th>\n",
       "      <td>2020-12-05</td>\n",
       "      <td>5</td>\n",
       "      <td>12</td>\n",
       "      <td>2020</td>\n",
       "      <td>235</td>\n",
       "      <td>18</td>\n",
       "      <td>Afghanistan</td>\n",
       "      <td>AF</td>\n",
       "      <td>AFG</td>\n",
       "      <td>38041757.0</td>\n",
       "      <td>Asia</td>\n",
       "      <td>7.115865</td>\n",
       "    </tr>\n",
       "  </tbody>\n",
       "</table>\n",
       "</div>"
      ],
      "text/plain": [
       "     dateRep  day  month  year  cases  deaths countriesAndTerritories geoId  \\\n",
       "0 2020-12-14   14     12  2020    746       6             Afghanistan    AF   \n",
       "1 2020-12-13   13     12  2020    298       9             Afghanistan    AF   \n",
       "2 2020-12-12   12     12  2020    113      11             Afghanistan    AF   \n",
       "3 2020-12-11   11     12  2020     63      10             Afghanistan    AF   \n",
       "4 2020-12-10   10     12  2020    202      16             Afghanistan    AF   \n",
       "5 2020-12-09    9     12  2020    135      13             Afghanistan    AF   \n",
       "6 2020-12-08    8     12  2020    200       6             Afghanistan    AF   \n",
       "7 2020-12-07    7     12  2020    210      26             Afghanistan    AF   \n",
       "8 2020-12-06    6     12  2020    234      10             Afghanistan    AF   \n",
       "9 2020-12-05    5     12  2020    235      18             Afghanistan    AF   \n",
       "\n",
       "  countryterritoryCode  popData2019 continentExp  \\\n",
       "0                  AFG   38041757.0         Asia   \n",
       "1                  AFG   38041757.0         Asia   \n",
       "2                  AFG   38041757.0         Asia   \n",
       "3                  AFG   38041757.0         Asia   \n",
       "4                  AFG   38041757.0         Asia   \n",
       "5                  AFG   38041757.0         Asia   \n",
       "6                  AFG   38041757.0         Asia   \n",
       "7                  AFG   38041757.0         Asia   \n",
       "8                  AFG   38041757.0         Asia   \n",
       "9                  AFG   38041757.0         Asia   \n",
       "\n",
       "   Cumulative_number_for_14_days_of_COVID-19_cases_per_100000  \n",
       "0                                           9.013779           \n",
       "1                                           7.052776           \n",
       "2                                           6.868768           \n",
       "3                                           7.134266           \n",
       "4                                           6.968658           \n",
       "5                                           6.963401           \n",
       "6                                           7.094835           \n",
       "7                                           7.215755           \n",
       "8                                           7.326160           \n",
       "9                                           7.115865           "
      ]
     },
     "execution_count": 4,
     "metadata": {},
     "output_type": "execute_result"
    }
   ],
   "source": [
    "df = pandas.read_excel('s3://schultz-241-2023-python/COVID-19-geographic-disbtribution-worldwide-2020-12-14.xlsx')\n",
    "df[:10]"
   ]
  },
  {
   "cell_type": "markdown",
   "id": "ca2b4fe3",
   "metadata": {},
   "source": [
    "\n",
    "# France's Covid Data "
   ]
  },
  {
   "cell_type": "code",
   "execution_count": 5,
   "id": "fa681d97",
   "metadata": {},
   "outputs": [
    {
     "data": {
      "text/html": [
       "<div>\n",
       "<style scoped>\n",
       "    .dataframe tbody tr th:only-of-type {\n",
       "        vertical-align: middle;\n",
       "    }\n",
       "\n",
       "    .dataframe tbody tr th {\n",
       "        vertical-align: top;\n",
       "    }\n",
       "\n",
       "    .dataframe thead th {\n",
       "        text-align: right;\n",
       "    }\n",
       "</style>\n",
       "<table border=\"1\" class=\"dataframe\">\n",
       "  <thead>\n",
       "    <tr style=\"text-align: right;\">\n",
       "      <th></th>\n",
       "      <th>dateRep</th>\n",
       "      <th>day</th>\n",
       "      <th>month</th>\n",
       "      <th>year</th>\n",
       "      <th>cases</th>\n",
       "      <th>deaths</th>\n",
       "      <th>countriesAndTerritories</th>\n",
       "      <th>geoId</th>\n",
       "      <th>countryterritoryCode</th>\n",
       "      <th>popData2019</th>\n",
       "      <th>continentExp</th>\n",
       "      <th>Cumulative_number_for_14_days_of_COVID-19_cases_per_100000</th>\n",
       "    </tr>\n",
       "  </thead>\n",
       "  <tbody>\n",
       "    <tr>\n",
       "      <th>20364</th>\n",
       "      <td>2020-12-14</td>\n",
       "      <td>14</td>\n",
       "      <td>12</td>\n",
       "      <td>2020</td>\n",
       "      <td>11533</td>\n",
       "      <td>150</td>\n",
       "      <td>France</td>\n",
       "      <td>FR</td>\n",
       "      <td>FRA</td>\n",
       "      <td>67012883.0</td>\n",
       "      <td>Europe</td>\n",
       "      <td>236.326200</td>\n",
       "    </tr>\n",
       "    <tr>\n",
       "      <th>20365</th>\n",
       "      <td>2020-12-13</td>\n",
       "      <td>13</td>\n",
       "      <td>12</td>\n",
       "      <td>2020</td>\n",
       "      <td>13947</td>\n",
       "      <td>194</td>\n",
       "      <td>France</td>\n",
       "      <td>FR</td>\n",
       "      <td>FRA</td>\n",
       "      <td>67012883.0</td>\n",
       "      <td>Europe</td>\n",
       "      <td>233.716254</td>\n",
       "    </tr>\n",
       "    <tr>\n",
       "      <th>20366</th>\n",
       "      <td>2020-12-12</td>\n",
       "      <td>12</td>\n",
       "      <td>12</td>\n",
       "      <td>2020</td>\n",
       "      <td>13406</td>\n",
       "      <td>627</td>\n",
       "      <td>France</td>\n",
       "      <td>FR</td>\n",
       "      <td>FRA</td>\n",
       "      <td>67012883.0</td>\n",
       "      <td>Europe</td>\n",
       "      <td>231.556968</td>\n",
       "    </tr>\n",
       "    <tr>\n",
       "      <th>20367</th>\n",
       "      <td>2020-12-11</td>\n",
       "      <td>11</td>\n",
       "      <td>12</td>\n",
       "      <td>2020</td>\n",
       "      <td>13750</td>\n",
       "      <td>292</td>\n",
       "      <td>France</td>\n",
       "      <td>FR</td>\n",
       "      <td>FRA</td>\n",
       "      <td>67012883.0</td>\n",
       "      <td>Europe</td>\n",
       "      <td>230.263187</td>\n",
       "    </tr>\n",
       "    <tr>\n",
       "      <th>20368</th>\n",
       "      <td>2020-12-10</td>\n",
       "      <td>10</td>\n",
       "      <td>12</td>\n",
       "      <td>2020</td>\n",
       "      <td>14595</td>\n",
       "      <td>296</td>\n",
       "      <td>France</td>\n",
       "      <td>FR</td>\n",
       "      <td>FRA</td>\n",
       "      <td>67012883.0</td>\n",
       "      <td>Europe</td>\n",
       "      <td>229.984136</td>\n",
       "    </tr>\n",
       "    <tr>\n",
       "      <th>20369</th>\n",
       "      <td>2020-12-09</td>\n",
       "      <td>9</td>\n",
       "      <td>12</td>\n",
       "      <td>2020</td>\n",
       "      <td>13713</td>\n",
       "      <td>831</td>\n",
       "      <td>France</td>\n",
       "      <td>FR</td>\n",
       "      <td>FRA</td>\n",
       "      <td>67012883.0</td>\n",
       "      <td>Europe</td>\n",
       "      <td>232.501562</td>\n",
       "    </tr>\n",
       "    <tr>\n",
       "      <th>20370</th>\n",
       "      <td>2020-12-08</td>\n",
       "      <td>8</td>\n",
       "      <td>12</td>\n",
       "      <td>2020</td>\n",
       "      <td>3411</td>\n",
       "      <td>366</td>\n",
       "      <td>France</td>\n",
       "      <td>FR</td>\n",
       "      <td>FRA</td>\n",
       "      <td>67012883.0</td>\n",
       "      <td>Europe</td>\n",
       "      <td>225.699885</td>\n",
       "    </tr>\n",
       "    <tr>\n",
       "      <th>20371</th>\n",
       "      <td>2020-12-07</td>\n",
       "      <td>7</td>\n",
       "      <td>12</td>\n",
       "      <td>2020</td>\n",
       "      <td>11022</td>\n",
       "      <td>174</td>\n",
       "      <td>France</td>\n",
       "      <td>FR</td>\n",
       "      <td>FRA</td>\n",
       "      <td>67012883.0</td>\n",
       "      <td>Europe</td>\n",
       "      <td>227.253318</td>\n",
       "    </tr>\n",
       "    <tr>\n",
       "      <th>20372</th>\n",
       "      <td>2020-12-06</td>\n",
       "      <td>6</td>\n",
       "      <td>12</td>\n",
       "      <td>2020</td>\n",
       "      <td>12923</td>\n",
       "      <td>214</td>\n",
       "      <td>France</td>\n",
       "      <td>FR</td>\n",
       "      <td>FRA</td>\n",
       "      <td>67012883.0</td>\n",
       "      <td>Europe</td>\n",
       "      <td>230.439272</td>\n",
       "    </tr>\n",
       "    <tr>\n",
       "      <th>20373</th>\n",
       "      <td>2020-12-05</td>\n",
       "      <td>5</td>\n",
       "      <td>12</td>\n",
       "      <td>2020</td>\n",
       "      <td>11221</td>\n",
       "      <td>627</td>\n",
       "      <td>France</td>\n",
       "      <td>FR</td>\n",
       "      <td>FRA</td>\n",
       "      <td>67012883.0</td>\n",
       "      <td>Europe</td>\n",
       "      <td>237.837850</td>\n",
       "    </tr>\n",
       "  </tbody>\n",
       "</table>\n",
       "</div>"
      ],
      "text/plain": [
       "         dateRep  day  month  year  cases  deaths countriesAndTerritories  \\\n",
       "20364 2020-12-14   14     12  2020  11533     150                  France   \n",
       "20365 2020-12-13   13     12  2020  13947     194                  France   \n",
       "20366 2020-12-12   12     12  2020  13406     627                  France   \n",
       "20367 2020-12-11   11     12  2020  13750     292                  France   \n",
       "20368 2020-12-10   10     12  2020  14595     296                  France   \n",
       "20369 2020-12-09    9     12  2020  13713     831                  France   \n",
       "20370 2020-12-08    8     12  2020   3411     366                  France   \n",
       "20371 2020-12-07    7     12  2020  11022     174                  France   \n",
       "20372 2020-12-06    6     12  2020  12923     214                  France   \n",
       "20373 2020-12-05    5     12  2020  11221     627                  France   \n",
       "\n",
       "      geoId countryterritoryCode  popData2019 continentExp  \\\n",
       "20364    FR                  FRA   67012883.0       Europe   \n",
       "20365    FR                  FRA   67012883.0       Europe   \n",
       "20366    FR                  FRA   67012883.0       Europe   \n",
       "20367    FR                  FRA   67012883.0       Europe   \n",
       "20368    FR                  FRA   67012883.0       Europe   \n",
       "20369    FR                  FRA   67012883.0       Europe   \n",
       "20370    FR                  FRA   67012883.0       Europe   \n",
       "20371    FR                  FRA   67012883.0       Europe   \n",
       "20372    FR                  FRA   67012883.0       Europe   \n",
       "20373    FR                  FRA   67012883.0       Europe   \n",
       "\n",
       "       Cumulative_number_for_14_days_of_COVID-19_cases_per_100000  \n",
       "20364                                         236.326200           \n",
       "20365                                         233.716254           \n",
       "20366                                         231.556968           \n",
       "20367                                         230.263187           \n",
       "20368                                         229.984136           \n",
       "20369                                         232.501562           \n",
       "20370                                         225.699885           \n",
       "20371                                         227.253318           \n",
       "20372                                         230.439272           \n",
       "20373                                         237.837850           "
      ]
     },
     "execution_count": 5,
     "metadata": {},
     "output_type": "execute_result"
    }
   ],
   "source": [
    "france_data = df.loc[ df['countriesAndTerritories']=='France' ]\n",
    "\n",
    "france_data[:10]"
   ]
  },
  {
   "cell_type": "markdown",
   "id": "03af5fe7",
   "metadata": {},
   "source": [
    "\n",
    "# Deaths in Relation to Number of Cases"
   ]
  },
  {
   "cell_type": "code",
   "execution_count": 6,
   "id": "f6e42069",
   "metadata": {},
   "outputs": [
    {
     "data": {
      "text/plain": [
       "<AxesSubplot: xlabel='cases', ylabel='deaths'>"
      ]
     },
     "execution_count": 6,
     "metadata": {},
     "output_type": "execute_result"
    },
    {
     "data": {
      "image/png": "[encoded data removed]",
      "text/plain": [
       "<Figure size 640x480 with 1 Axes>"
      ]
     },
     "metadata": {},
     "output_type": "display_data"
    }
   ],
   "source": [
    "france_data.plot.scatter(x='cases',y='deaths')"
   ]
  },
  {
   "cell_type": "markdown",
   "id": "3b5456a0",
   "metadata": {},
   "source": [
    "## Explanation of Calculations\n",
    "This model is a linear regression comparing the cases to the number of deaths in france. \n",
    "\n",
    "## Explanation of Visualizations\n",
    "There does not appear to be a strong correlation between the number of cases and number of deaths. Even with a high number of cases, there were still the same amount of deaths as seen with less cases. This shows that France had good mitigation efforts to prevent death when cases were present."
   ]
  },
  {
   "cell_type": "markdown",
   "id": "30dbac41",
   "metadata": {},
   "source": [
    "\n",
    "# Month With Highest Number of Deaths"
   ]
  },
  {
   "cell_type": "code",
   "execution_count": 7,
   "id": "d0cfc1d4",
   "metadata": {},
   "outputs": [
    {
     "name": "stderr",
     "output_type": "stream",
     "text": [
      "/tmp/ipykernel_7365/1788494786.py:1: FutureWarning: The default value of numeric_only in DataFrameGroupBy.sum is deprecated. In a future version, numeric_only will default to False. Either specify numeric_only or select only columns which should be valid for the function.\n",
      "  sum_deaths_per_month = france_data.groupby('month').sum()['deaths']\n"
     ]
    },
    {
     "data": {
      "text/plain": [
       "<AxesSubplot: xlabel='month'>"
      ]
     },
     "execution_count": 7,
     "metadata": {},
     "output_type": "execute_result"
    },
    {
     "data": {
      "image/png": "[encoded data removed]",
      "text/plain": [
       "<Figure size 640x480 with 1 Axes>"
      ]
     },
     "metadata": {},
     "output_type": "display_data"
    }
   ],
   "source": [
    "sum_deaths_per_month = france_data.groupby('month').sum()['deaths']\n",
    "sum_deaths_per_month.plot()"
   ]
  },
  {
   "cell_type": "markdown",
   "id": "0298c2f6",
   "metadata": {},
   "source": [
    "## Explanation of Calculations\n",
    "This is a line graph illustrating the number of deaths per month. The months are numbered from 1-12 on the x-axis and deaths numbered on the y-axis.\n",
    "\n",
    "## Explanation of Visualization\n",
    "The graph shows that there were a maximum number of deaths during April of over 20,000 deaths. We saw an increase in deaths after Feburary and they did not decrease until the peak in April. They hit a low point from June to September and rose again in October. "
   ]
  },
  {
   "cell_type": "markdown",
   "id": "ca32b25c",
   "metadata": {},
   "source": [
    "\n",
    "# Month With Highest Number of Cases"
   ]
  },
  {
   "cell_type": "code",
   "execution_count": 10,
   "id": "c45d67b2",
   "metadata": {},
   "outputs": [
    {
     "name": "stderr",
     "output_type": "stream",
     "text": [
      "/tmp/ipykernel_7365/2990800422.py:1: FutureWarning: The default value of numeric_only in DataFrameGroupBy.sum is deprecated. In a future version, numeric_only will default to False. Either specify numeric_only or select only columns which should be valid for the function.\n",
      "  sum_cases_by_month=france_data.groupby('month').sum()['cases']\n"
     ]
    },
    {
     "data": {
      "text/plain": [
       "<AxesSubplot: xlabel='month'>"
      ]
     },
     "execution_count": 10,
     "metadata": {},
     "output_type": "execute_result"
    },
    {
     "data": {
      "image/png": "[encoded data removed]",
      "text/plain": [
       "<Figure size 640x480 with 1 Axes>"
      ]
     },
     "metadata": {},
     "output_type": "display_data"
    }
   ],
   "source": [
    "sum_cases_by_month=france_data.groupby('month').sum()['cases']\n",
    "sum_cases_by_month.plot.bar()"
   ]
  },
  {
   "cell_type": "markdown",
   "id": "65211611",
   "metadata": {},
   "source": [
    "## Explanation of Calculations\n",
    "This is a bar graph showing the number cases of COVID-19 per month. The numbers on the x-axis relate to the number month in the year it is.\n",
    "\n",
    "## Explanation of Visualization\n",
    "This graph illustrates that the number of cases started to increase in March and April, stayed slighly lower in May-July and then picked back up in August. A spike of cases occured in November with over 800,000 cases."
   ]
  },
  {
   "cell_type": "markdown",
   "id": "ac5b0eed",
   "metadata": {},
   "source": [
    "## Conclusion"
   ]
  },
  {
   "cell_type": "markdown",
   "id": "a7381173",
   "metadata": {},
   "source": [
    "In conclusion this analysis specifically focuses on France and has allowed us to visualize trends of COVID-19 throughout 2020. We looked at deaths in relation to number of cases and found that there is not a strong correlation. From this we can conclude that France did a good job at minimizing deaths even when cases were high. We also looked at which months had the highest number of deaths and as the graph illustrates, the winter months saw more deaths than the warmer months. We can conclude that this could possibly be related to other diseases like the flu which also occurs during the winter months. Finally, we looked at the cases per month and observed that the cases did not hit their peak until November. We could conclude that they hit their peak in November because of holiday season and getting together with family.\n",
    "\n",
    "The limitations of our data is that we are unable to break down the numbers in France by economic status, region, or health care opportunities available. There may be outliers in this data due to looking at all of France. \n",
    "\n",
    "Suggestions for further research are that age and other socioeconomic fractors should be taken into account. Vaccinations would also be interesting data to look at in comparison to deaths and cases. More recent years would also be great for next steps of looking at COVID-19 over the years. "
   ]
  },
  {
   "cell_type": "code",
   "execution_count": null,
   "id": "dfa0ef1a",
   "metadata": {},
   "outputs": [],
   "source": []
  }
 ],
 "metadata": {
  "kernelspec": {
   "display_name": "conda_python3",
   "language": "python",
   "name": "conda_python3"
  },
  "language_info": {
   "codemirror_mode": {
    "name": "ipython",
    "version": 3
   },
   "file_extension": ".py",
   "mimetype": "text/x-python",
   "name": "python",
   "nbconvert_exporter": "python",
   "pygments_lexer": "ipython3",
   "version": "3.10.8"
  }
 },
 "nbformat": 4,
 "nbformat_minor": 5
}
